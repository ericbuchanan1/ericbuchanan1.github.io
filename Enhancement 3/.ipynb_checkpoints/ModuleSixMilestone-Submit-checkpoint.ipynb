{
 "cells": [
  {
   "cell_type": "code",
   "execution_count": 1,
   "id": "1bea51f5",
   "metadata": {
    "ExecuteTime": {
     "end_time": "2024-02-27T00:09:23.910386Z",
     "start_time": "2024-02-27T00:09:22.019649Z"
    }
   },
   "outputs": [
    {
     "data": {
      "text/html": [
       "<div>\n",
       "  <iframe src=\"/app/endpoints/a4342e5ff9e94d3fa4ef216601db89a5/\" width=800 height=600 frameborder=\"0\"></iframe>\n",
       "  <hr/><a href=\"/app/endpoints/a4342e5ff9e94d3fa4ef216601db89a5/\" target=\"_new\">Open in new window</a> for /app/endpoints/a4342e5ff9e94d3fa4ef216601db89a5/\n",
       "</div>"
      ],
      "text/plain": [
       "<jupyter_plotly_dash.dash_wrapper.JupyterDash at 0x7f189c06b310>"
      ]
     },
     "execution_count": 1,
     "metadata": {},
     "output_type": "execute_result"
    }
   ],
   "source": [
    "# Import necessary libraries\n",
    "from jupyter_plotly_dash import JupyterDash\n",
    "import dash_leaflet as dl\n",
    "from dash import dcc\n",
    "from dash import html\n",
    "import plotly.express as px\n",
    "from dash import dash_table\n",
    "from dash.dependencies import Input, Output\n",
    "import numpy as np\n",
    "import pandas as pd\n",
    "import matplotlib.pyplot as plt\n",
    "from mongodb_crud import AnimalShelter\n",
    "\n",
    "# Data Manipulation / Model\n",
    "username = \"aacuser\"\n",
    "password = \"SNHU1234\"\n",
    "shelter = AnimalShelter(username, password)\n",
    "\n",
    "df = pd.DataFrame.from_records(shelter.read({}))\n",
    "df.drop(columns=['_id'],inplace=True)\n",
    "\n",
    "# Dashboard Layout / View\n",
    "app = JupyterDash('Eric Buchanan')\n",
    "\n",
    "app.layout = html.Div([\n",
    "    html.Div(id='hidden-div', style={'display':'none'}),\n",
    "    html.Center(html.B(html.H1('SNHU CS-340 Dashboard by Eric Buchanan'))),\n",
    "    html.Hr(),\n",
    "    dash_table.DataTable(\n",
    "    id='datatable-id',\n",
    "    columns=[{\"name\": i, \"id\": i, \"deletable\": False, \"selectable\": True} for i in df.columns],\n",
    "    data=df.to_dict('records'),\n",
    "    \n",
    "    # Enable sorting\n",
    "    sort_action=\"native\",\n",
    "    \n",
    "    # Enable filtering\n",
    "    filter_action=\"native\",\n",
    "    \n",
    "    # Allow multiple rows to be selected\n",
    "    row_selectable=\"multi\",\n",
    "    \n",
    "    # Pagination settings\n",
    "    page_action=\"native\",\n",
    "    page_current=0,\n",
    "    page_size=10,\n",
    "    \n",
    "    # Allow cells to be edited\n",
    "    editable=True,\n",
    ")\n",
    ",\n",
    "    html.Br(),\n",
    "    html.Hr(),\n",
    "    html.Div(id='map-id', className='col s12 m6'),\n",
    "])\n",
    "\n",
    "# Interaction Between Components / Controller\n",
    "@app.callback(\n",
    "    Output('datatable-id', 'style_data_conditional'),\n",
    "    [Input('datatable-id', 'selected_columns')]\n",
    ")\n",
    "def update_styles(selected_columns):\n",
    "    return [{'if': { 'column_id': i }, 'background_color': '#D2F3FF'} for i in selected_columns]\n",
    "\n",
    "@app.callback(\n",
    "    Output('map-id', 'children'),\n",
    "    [Input('datatable-id', 'derived_virtual_data'),\n",
    "     Input('datatable-id', 'selected_rows')]\n",
    ")\n",
    "def update_map(viewData, index):\n",
    "    dff = pd.DataFrame.from_dict(viewData)\n",
    "    if index is None:\n",
    "        row = 0\n",
    "    else: \n",
    "        row = index[0]\n",
    "    return [\n",
    "        dl.Map(style={'width': '1000px', 'height': '500px'}, center=[30.75,-97.48], zoom=10, children=[\n",
    "            dl.TileLayer(id=\"base-layer-id\"),\n",
    "            dl.Marker(position=[dff.iloc[row,13],dff.iloc[row,14]], children=[\n",
    "                dl.Tooltip(dff.iloc[row,4]),\n",
    "                dl.Popup([\n",
    "                    html.H1(\"Animal Name\"),\n",
    "                    html.P(dff.iloc[row,9])\n",
    "                ])\n",
    "            ])\n",
    "        ])\n",
    "    ]\n",
    "\n",
    "# Run the app\n",
    "#Everytime i did app.server_run() it gave me an error so i did this to get it to work\n",
    "if __name__ == '__main__':\n",
    "    app.run_server(debug=True, use_reloader=False)"
   ]
  },
  {
   "cell_type": "code",
   "execution_count": null,
   "id": "2612f6f7",
   "metadata": {},
   "outputs": [],
   "source": []
  }
 ],
 "metadata": {
  "kernelspec": {
   "display_name": "Python 3 (ipykernel)",
   "language": "python",
   "name": "python3"
  },
  "language_info": {
   "codemirror_mode": {
    "name": "ipython",
    "version": 3
   },
   "file_extension": ".py",
   "mimetype": "text/x-python",
   "name": "python",
   "nbconvert_exporter": "python",
   "pygments_lexer": "ipython3",
   "version": "3.9.12"
  }
 },
 "nbformat": 4,
 "nbformat_minor": 5
}
